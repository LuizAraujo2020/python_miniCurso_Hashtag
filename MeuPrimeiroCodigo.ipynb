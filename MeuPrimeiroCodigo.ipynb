{
 "cells": [
  {
   "cell_type": "code",
   "execution_count": 2,
   "id": "325c1ebe",
   "metadata": {},
   "outputs": [
    {
     "name": "stdout",
     "output_type": "stream",
     "text": [
      "Luiz\n"
     ]
    }
   ],
   "source": [
    "nome = \"Luiz\"\n",
    "print(nome)"
   ]
  },
  {
   "cell_type": "code",
   "execution_count": 3,
   "id": "3e9e73b6",
   "metadata": {},
   "outputs": [
    {
     "data": {
      "text/plain": [
       "'Luiz'"
      ]
     },
     "execution_count": 3,
     "metadata": {},
     "output_type": "execute_result"
    }
   ],
   "source": [
    "nome"
   ]
  },
  {
   "cell_type": "code",
   "execution_count": 4,
   "id": "cb8c4092",
   "metadata": {},
   "outputs": [
    {
     "data": {
      "text/plain": [
       "30"
      ]
     },
     "execution_count": 4,
     "metadata": {},
     "output_type": "execute_result"
    }
   ],
   "source": [
    "idade = 30\n",
    "idade"
   ]
  },
  {
   "cell_type": "code",
   "execution_count": 5,
   "id": "3f9d942b",
   "metadata": {},
   "outputs": [
    {
     "data": {
      "text/plain": [
       "33"
      ]
     },
     "execution_count": 5,
     "metadata": {},
     "output_type": "execute_result"
    }
   ],
   "source": [
    "idade + 3"
   ]
  },
  {
   "cell_type": "code",
   "execution_count": 6,
   "id": "2fea9546",
   "metadata": {},
   "outputs": [
    {
     "data": {
      "text/plain": [
       "30"
      ]
     },
     "execution_count": 6,
     "metadata": {},
     "output_type": "execute_result"
    }
   ],
   "source": [
    "idade"
   ]
  },
  {
   "cell_type": "code",
   "execution_count": 9,
   "id": "666f8505",
   "metadata": {},
   "outputs": [],
   "source": [
    "idade = idade + 3"
   ]
  },
  {
   "cell_type": "code",
   "execution_count": 10,
   "id": "efc82ebe",
   "metadata": {},
   "outputs": [
    {
     "data": {
      "text/plain": [
       "39"
      ]
     },
     "execution_count": 10,
     "metadata": {},
     "output_type": "execute_result"
    }
   ],
   "source": [
    "idade"
   ]
  },
  {
   "cell_type": "code",
   "execution_count": 11,
   "id": "de4e0dfe",
   "metadata": {},
   "outputs": [],
   "source": [
    "def mais_um_ano(idade):\n",
    "    print(\"Dentro da função \")\n",
    "    return idade + 3"
   ]
  },
  {
   "cell_type": "code",
   "execution_count": 12,
   "id": "e3034a74",
   "metadata": {},
   "outputs": [
    {
     "name": "stdout",
     "output_type": "stream",
     "text": [
      "Dentro da função \n"
     ]
    },
    {
     "data": {
      "text/plain": [
       "46"
      ]
     },
     "execution_count": 12,
     "metadata": {},
     "output_type": "execute_result"
    }
   ],
   "source": [
    "mais_um_ano(43)"
   ]
  },
  {
   "cell_type": "code",
   "execution_count": 15,
   "id": "6f664efb",
   "metadata": {},
   "outputs": [],
   "source": [
    "filme1 = \"Toy Story 4\"\n",
    "filme2 = \"blabla\"\n",
    "filme3 = \"pipipi\""
   ]
  },
  {
   "cell_type": "code",
   "execution_count": 17,
   "id": "f21bc697",
   "metadata": {},
   "outputs": [
    {
     "data": {
      "text/plain": [
       "['ccccc', 'bbbb', 'aaaa']"
      ]
     },
     "execution_count": 17,
     "metadata": {},
     "output_type": "execute_result"
    }
   ],
   "source": [
    "filmes = [\"ccccc\", \"bbbb\",\"aaaa\"]\n",
    "filmes"
   ]
  },
  {
   "cell_type": "code",
   "execution_count": 19,
   "id": "272bfbd0",
   "metadata": {},
   "outputs": [
    {
     "data": {
      "text/plain": [
       "['Toy Story 4', 'blabla', 'pipipi']"
      ]
     },
     "execution_count": 19,
     "metadata": {},
     "output_type": "execute_result"
    }
   ],
   "source": [
    "filmes = [filme1, filme2, filme3]\n",
    "filmes"
   ]
  },
  {
   "cell_type": "code",
   "execution_count": 20,
   "id": "1878564e",
   "metadata": {},
   "outputs": [
    {
     "data": {
      "text/plain": [
       "'pipipi'"
      ]
     },
     "execution_count": 20,
     "metadata": {},
     "output_type": "execute_result"
    }
   ],
   "source": [
    "filmes[-1]"
   ]
  },
  {
   "cell_type": "code",
   "execution_count": 21,
   "id": "5009b1e7",
   "metadata": {},
   "outputs": [
    {
     "data": {
      "text/plain": [
       "'blabla'"
      ]
     },
     "execution_count": 21,
     "metadata": {},
     "output_type": "execute_result"
    }
   ],
   "source": [
    "filmes[-2]"
   ]
  },
  {
   "cell_type": "code",
   "execution_count": 22,
   "id": "b08ed72a",
   "metadata": {},
   "outputs": [
    {
     "data": {
      "text/plain": [
       "['blabla', 'pipipi']"
      ]
     },
     "execution_count": 22,
     "metadata": {},
     "output_type": "execute_result"
    }
   ],
   "source": [
    "filmes[1:]"
   ]
  },
  {
   "cell_type": "code",
   "execution_count": 23,
   "id": "facffb4d",
   "metadata": {},
   "outputs": [
    {
     "data": {
      "text/plain": [
       "['blabla', 'pipipi']"
      ]
     },
     "execution_count": 23,
     "metadata": {},
     "output_type": "execute_result"
    }
   ],
   "source": [
    "filmes[-2:]"
   ]
  },
  {
   "cell_type": "code",
   "execution_count": 24,
   "id": "dd5c167b",
   "metadata": {},
   "outputs": [
    {
     "name": "stdout",
     "output_type": "stream",
     "text": [
      "Toy Story 4\n",
      "blabla\n",
      "pipipi\n"
     ]
    }
   ],
   "source": [
    "for filme in filmes:\n",
    "    print(filme)"
   ]
  },
  {
   "cell_type": "code",
   "execution_count": 25,
   "id": "a7d3a15f",
   "metadata": {},
   "outputs": [],
   "source": [
    "def imprimir_filmes(filmes_para_imprimir):\n",
    "    print(\"Alista de filmes\")\n",
    "    for filme in filmes_para_imprimir:\n",
    "        print(filme)"
   ]
  },
  {
   "cell_type": "code",
   "execution_count": 26,
   "id": "0ff073d8",
   "metadata": {},
   "outputs": [
    {
     "name": "stdout",
     "output_type": "stream",
     "text": [
      "Alista de filmes\n",
      "Toy Story 4\n",
      "blabla\n",
      "pipipi\n"
     ]
    }
   ],
   "source": [
    "imprimir_filmes(filmes)"
   ]
  },
  {
   "cell_type": "code",
   "execution_count": null,
   "id": "e2ce07e0",
   "metadata": {},
   "outputs": [],
   "source": []
  }
 ],
 "metadata": {
  "kernelspec": {
   "display_name": "Python 3",
   "language": "python",
   "name": "python3"
  },
  "language_info": {
   "codemirror_mode": {
    "name": "ipython",
    "version": 3
   },
   "file_extension": ".py",
   "mimetype": "text/x-python",
   "name": "python",
   "nbconvert_exporter": "python",
   "pygments_lexer": "ipython3",
   "version": "3.8.8"
  }
 },
 "nbformat": 4,
 "nbformat_minor": 5
}
